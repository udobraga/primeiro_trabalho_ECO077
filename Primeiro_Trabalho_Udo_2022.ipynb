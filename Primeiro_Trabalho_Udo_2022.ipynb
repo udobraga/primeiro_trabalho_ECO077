{
  "nbformat": 4,
  "nbformat_minor": 0,
  "metadata": {
    "kernelspec": {
      "display_name": "Python 3",
      "language": "python",
      "name": "python3"
    },
    "language_info": {
      "codemirror_mode": {
        "name": "ipython",
        "version": 3
      },
      "file_extension": ".py",
      "mimetype": "text/x-python",
      "name": "python",
      "nbconvert_exporter": "python",
      "pygments_lexer": "ipython3",
      "version": "3.6.5"
    },
    "colab": {
      "provenance": [],
      "collapsed_sections": []
    }
  },
  "cells": [
    {
      "cell_type": "markdown",
      "metadata": {
        "id": "YmtuRHVUHq3L"
      },
      "source": [
        "# **Introdução à Modelagem Econômica e Ciência de Dados (2022).**\n",
        "\n",
        "# *Primeiro Trabalho - a ser devolvido ate o dia 21/10/2022.*"
      ]
    },
    {
      "cell_type": "markdown",
      "metadata": {
        "id": "90PrqDQzHq38"
      },
      "source": [
        "## **Exercício 1.** (15 pontos) Corrigindo um teste de múltipla escolha."
      ]
    },
    {
      "cell_type": "markdown",
      "metadata": {
        "id": "aIqM6n4qHq38"
      },
      "source": [
        "Escreva um código que calcule a nota de um teste de múltipla escolha contendo 5 questões (cada uma valendo 20 pontos). Cada questão possui 5 alternativas, nomeadas \"a\", \"b\", \"c\", \"d\" e \"e\". A resposta correta da primeira questão é \"b\", da segunda questão é \"e\", da terceira questão é \"c\", da quarta questão é \"a\" e da quinta questão é \"d\". Entre com a resposta de cada uma das questões e a seguir apresente a pontuação. O console deve imprimir a seguinte informação: \n",
        "\n",
        "`Entre com a resposta da questão 1: ___`\n",
        "\n",
        "`Entre com a resposta da questão 2: ___`\n",
        "\n",
        "`Entre com a resposta da questão 3: ___`\n",
        "\n",
        "`Entre com a resposta da questão 4: ___`\n",
        "\n",
        "`Entre com a resposta da questão 5: ___`\n",
        "\n",
        "`O aluno fez ___ pontos.`\n",
        "\n",
        "**Por exemplo:** Suponha que um aluno tenha respondido assim: primeira questão \"a\", segunda questão \"e\", terceira questão \"d\", quarta questão \"b\" e quinta questão \"d\". Neste caso o console irá imprimir:\n",
        "\n",
        "`Entre com a resposta da questão 1: a`\n",
        "\n",
        "`Entre com a resposta da questão 2: e`\n",
        "\n",
        "`Entre com a resposta da questão 3: d`\n",
        "\n",
        "`Entre com a resposta da questão 4: b`\n",
        "\n",
        "`Entre com a resposta da questão 5: d`\n",
        "\n",
        "`O aluno fez 40 pontos.`"
      ]
    },
    {
      "cell_type": "code",
      "metadata": {
        "id": "Apxm1WrRSwhT",
        "colab": {
          "base_uri": "https://localhost:8080/"
        },
        "outputId": "82b16821-eac9-4b64-9cb1-4a9b0deacc13"
      },
      "source": [
        "# Código Questão 1\n",
        "\n",
        "# Atribuindo variáveis\n",
        "\n",
        "quest1 = 'b'\n",
        "quest2 = 'e'\n",
        "quest3 = 'c'\n",
        "quest4 = 'a'\n",
        "quest5 = 'd'\n",
        "\n",
        "answer1 = input(\"Entre com a resposta da questão 1: \") \n",
        "answer2 = input(\"Entre com a resposta da questão 2: \") \n",
        "answer3 = input(\"Entre com a resposta da questão 3: \") \n",
        "answer4 = input(\"Entre com a resposta da questão 4: \") \n",
        "answer5 = input(\"Entre com a resposta da questão 5: \") \n",
        "\n",
        "#Lista para receber valor de cada resposta\n",
        "\n",
        "score = []\n",
        "\n",
        "# Criando Condicionais de Acerto\n",
        "\n",
        "if quest1 == answer1:\n",
        "  score.append(5)\n",
        "if quest2 == answer2:\n",
        "  score.append(5)\n",
        "if quest3 == answer3:\n",
        "  score.append(5)\n",
        "if quest4 == answer4:\n",
        "  score.append(5)\n",
        "if quest5 == answer5:\n",
        "  score.append(5)\n",
        "\n",
        "# Função para somar acertos\n",
        "\n",
        "def final_score(score):\n",
        "    total = 0\n",
        "    for i in score:\n",
        "       total = total + i\n",
        "    return total\n",
        "\n",
        "print('o aluno fez', final_score(score))"
      ],
      "execution_count": null,
      "outputs": [
        {
          "output_type": "stream",
          "name": "stdout",
          "text": [
            "Entre com a resposta da questão 1: a\n",
            "Entre com a resposta da questão 2: e\n",
            "Entre com a resposta da questão 3: d\n",
            "Entre com a resposta da questão 4: b\n",
            "Entre com a resposta da questão 5: d\n",
            "o aluno fez 10\n"
          ]
        }
      ]
    },
    {
      "cell_type": "markdown",
      "metadata": {
        "id": "ZolSFRahHq4L"
      },
      "source": [
        "## **Exercício 2.** (15 pontos) Construindo uma função que calcula o fatorial de um número."
      ]
    },
    {
      "cell_type": "markdown",
      "metadata": {
        "id": "wO5nlwroHq4M"
      },
      "source": [
        "Escreva um código que define uma função que permite calcular o fatorial de um número. A seguir pergunte um número para calcular seu fatorial. O console deve imprimir a seguinte informação:\n",
        "\n",
        "`Entre um número: __X__`\n",
        "\n",
        "`O fatorial de __X__ é __Y__.`\n",
        "\n",
        "**Por exemplo:** Suponha que o número inserido seja `3`. Neste caso o console irá imprimir:\n",
        "\n",
        "`Entre um número: 3`\n",
        "\n",
        "`O fatorial de 3 é 6.`\n"
      ]
    },
    {
      "cell_type": "code",
      "source": [
        "  x = int(input('Entre um número:',))\n",
        "  y = 1\n",
        "  for n in range(1,x+1):\n",
        "    y *= n\n",
        "\n",
        "print('o fatorial de', x, 'é', y)\n",
        "\n",
        "\n",
        "\n"
      ],
      "metadata": {
        "id": "rdCBCLOixaXf",
        "colab": {
          "base_uri": "https://localhost:8080/"
        },
        "outputId": "2ff0e2db-7af3-4894-d685-2faf65c48e3a"
      },
      "execution_count": null,
      "outputs": [
        {
          "output_type": "stream",
          "name": "stdout",
          "text": [
            "Entre um número:3\n",
            "o fatorial de 3 é 6\n"
          ]
        }
      ]
    },
    {
      "cell_type": "markdown",
      "source": [
        "## **Exercício 3.** (15 pontos) Construindo uma função que calcula a sequencia de N números *Fibonacci*."
      ],
      "metadata": {
        "id": "86MQ8YJX1bQx"
      }
    },
    {
      "cell_type": "markdown",
      "source": [
        "Escreva um código que define uma função que permite obter uma sequencia de Fibonacci com N números. A seguir pergunte um número N de elementos da sequencia de Fibonacci. O console deve imprimir a seguinte informação:\n",
        "\n",
        "`Entre o número de elementos da sequencia de Fibonacci: __N__`\n",
        "\n",
        "`A sequencia dos _N_ primeiros numeros de Fibonacci é: __F__.`\n",
        "\n",
        "**Por exemplo:** Suponha que o número inserido seja `4`. Neste caso o console irá imprimir:\n",
        "\n",
        "`Entre o número de elementos da sequencia de Fibonacci: 4`\n",
        "\n",
        "`A sequencia dos _N_ primeiros numeros de Fibonacci é: 1, 1, 2, 3.`\n"
      ],
      "metadata": {
        "id": "guXcQS9L18O7"
      }
    },
    {
      "cell_type": "code",
      "source": [
        "f0 = 0\n",
        "f1 = 1\n",
        "fN = int(input('Quantidade de números da sequencia:'))\n",
        "\n",
        "c = 0\n",
        "\n",
        "if fN <= 0:\n",
        "  print('Error')\n",
        "elif fN ==1:\n",
        "  print(f1)\n",
        "else:\n",
        "  while c <fN:\n",
        "    print(f1)\n",
        "\n",
        "    f_new = f1+f0\n",
        "    f0 = f1\n",
        "    f1 = f_new\n",
        "    c += 1\n",
        "\n",
        "\n",
        "\n",
        "\n"
      ],
      "metadata": {
        "colab": {
          "base_uri": "https://localhost:8080/"
        },
        "id": "Z1Z3GvqWX1-N",
        "outputId": "e0017a54-d503-40fe-d45d-cd17106e61f9"
      },
      "execution_count": null,
      "outputs": [
        {
          "output_type": "stream",
          "name": "stdout",
          "text": [
            "Quantidade de números da sequencia:7\n",
            "1\n",
            "1\n",
            "2\n",
            "3\n",
            "5\n",
            "8\n",
            "13\n"
          ]
        }
      ]
    },
    {
      "cell_type": "markdown",
      "metadata": {
        "id": "wVuikxg3Hq3m"
      },
      "source": [
        "## **Exercício 4.** (15 pontos) Saldo em carteira de fundos de investimentos."
      ]
    },
    {
      "cell_type": "markdown",
      "metadata": {
        "id": "U9uLZq14Hq3n"
      },
      "source": [
        "Escreva um código, utilizando Numpy, que permite avaliar o saldo em carteira de fundos de investimentos de dois investidores. Em um certo dia, \"Paulo\" e \"Cesar\" possuiam, em suas respectivas carteiras, cotas de fundos de investimentos com as seguintes posições:\n",
        "\n",
        "|Investidor|Renda Fixa|Ações|Multimercado|Cryptomoedas\n",
        "|--|--|--|--|--|\n",
        "|Paulo | 6| 3 |1 |0|\n",
        "|Cesar | 9| 0|0|0.5|\n",
        "\n",
        "O valor das cotas desses fundos ao final deste certo dia é o que segue: \\$ 20.00 para o fundo de renda fixa, \\$ 15.00 para o fundo de ações, \\$ 18.00 para o fundo multimercado e \\$ 6.00 para o fundo de cryptomoedas."
      ]
    },
    {
      "cell_type": "markdown",
      "source": [
        "i. Utilizando Numpy, monte a matriz com as posições das carteiras de fundos de investimentos de \"Paulo\" e de \"Cesar\"."
      ],
      "metadata": {
        "id": "UNOOrnt3DiG1"
      }
    },
    {
      "cell_type": "code",
      "source": [
        "import numpy as np\n",
        "\n",
        "carteira = np.array([[6,3,1,0], [9,0,0,0.5]])\n",
        "carteira\n"
      ],
      "metadata": {
        "id": "JrGgvVOmWeTn",
        "colab": {
          "base_uri": "https://localhost:8080/"
        },
        "outputId": "a1188e13-c4d9-4773-bc39-6e7d1fa25b77"
      },
      "execution_count": null,
      "outputs": [
        {
          "output_type": "execute_result",
          "data": {
            "text/plain": [
              "array([[6. , 3. , 1. , 0. ],\n",
              "       [9. , 0. , 0. , 0.5]])"
            ]
          },
          "metadata": {},
          "execution_count": 1
        }
      ]
    },
    {
      "cell_type": "markdown",
      "source": [
        "ii. Utilizando Numpy, monte uma matriz de valor das cotas de fechamento dos fundos (esta matriz deve possuir 4 linhas e 1 coluna)."
      ],
      "metadata": {
        "id": "FW3SZzZiEZdM"
      }
    },
    {
      "cell_type": "code",
      "source": [
        " cotas = np.array(np.mat('20 15 18 6'))\n",
        "\n",
        " matriz_1 = np.column_stack((cotas))\n",
        "\n",
        " matriz_1\n",
        "\n"
      ],
      "metadata": {
        "id": "5dj2f9qCWf0j",
        "colab": {
          "base_uri": "https://localhost:8080/"
        },
        "outputId": "cd95d5c8-1f9d-4043-dc8d-c82f8b7134f0"
      },
      "execution_count": null,
      "outputs": [
        {
          "output_type": "execute_result",
          "data": {
            "text/plain": [
              "array([[20],\n",
              "       [15],\n",
              "       [18],\n",
              "       [ 6]])"
            ]
          },
          "metadata": {},
          "execution_count": 3
        }
      ]
    },
    {
      "cell_type": "markdown",
      "source": [
        "iii. Utlizando Numpy, encontre o valor da carteira de fundos de investimentos de cada investidor."
      ],
      "metadata": {
        "id": "qyBhMg75Fblf"
      }
    },
    {
      "cell_type": "code",
      "source": [
        "carteira.transpose()\n",
        "\n",
        "value = np.dot(carteira, matriz_1)\n",
        "\n",
        "value"
      ],
      "metadata": {
        "id": "APtv7zzVWhGq",
        "colab": {
          "base_uri": "https://localhost:8080/"
        },
        "outputId": "f4de8df3-14a6-4552-8cbb-8ed672fe1c4b"
      },
      "execution_count": null,
      "outputs": [
        {
          "output_type": "execute_result",
          "data": {
            "text/plain": [
              "array([[183.],\n",
              "       [183.]])"
            ]
          },
          "metadata": {},
          "execution_count": 12
        }
      ]
    },
    {
      "cell_type": "markdown",
      "source": [
        "Apresente no console a informação da seguinte forma:\n",
        "\n",
        "`O valor da carteira de fundos de investimentos é de $ 183.00 para o Paulo e de $ 183.00 para o Cesar.`"
      ],
      "metadata": {
        "id": "myUDfL2qUWiM"
      }
    },
    {
      "cell_type": "code",
      "source": [
        "print('O valor da carteira de fundos de investimentos é de $', value[0,0], 'para o Paulo e de $', value[1,0], 'para o Cesar')\n",
        "\n"
      ],
      "metadata": {
        "id": "3WF7wJCYWjBi",
        "colab": {
          "base_uri": "https://localhost:8080/"
        },
        "outputId": "9bfd7983-37e6-4507-dc54-757138134662"
      },
      "execution_count": null,
      "outputs": [
        {
          "output_type": "stream",
          "name": "stdout",
          "text": [
            "O valor da carteira de fundos de investimentos é de $ 183.0 para o Paulo e de $ 183.0 para o Cesar\n"
          ]
        }
      ]
    },
    {
      "cell_type": "markdown",
      "metadata": {
        "id": "m4osg2MHHq3t"
      },
      "source": [
        "## **Exercício 5.** (15 pontos) Alocação dos recursos em investimentos."
      ]
    },
    {
      "cell_type": "markdown",
      "metadata": {
        "id": "7LaRC_v8Hq3u"
      },
      "source": [
        "Escreva um código, utilizando Numpy, que permita determinar como um gestor deverá alocar os recursos entre fundos de investimentos. Suponha que este gestor tenha feito uma minunciosa análise e tenha concluido que dispõe de 3 fundos para poder alocar os recursos. O fundo A é o que apresenta risco mais elevado, o fundo B apresenta um risco intermediário e o fundo C apresenta baixo risco. De acordo com as projeções deste gestor, os retornos esperados para estes fundos são de: 20% a.a para o fundo A, 12.5% a.a. para o fundo B e 6% a.a. para o fundo C. Em sua análise para a gestão dos recursos o gestor decidiu que o montante que irá investir no fundo C deverá corresponder à soma do montante investido nos fundos A e B. Este gestor dispõe de \\$ 100.00 para investir nos fundos A, B e C e o objetivo é o de alcançar um retorno de \\$ 10.00. \n",
        "\n",
        "O console deverá irá imprimir:\n",
        "\n",
        "`Montantes a serem alocados: fundo A = $ 10.00, fundo B = $ 40.00 e fundo C = $ 50.00.`"
      ]
    },
    {
      "cell_type": "markdown",
      "source": [
        "**Breve discussão sobre a estrutura do problema:** \n",
        "\n",
        "Sejam $x_A$, $x_B$ e $x_C$, respectivamente, os montantes a serem alocados nos fundos A, B e C. \n",
        "\n",
        "A partir do enunciado, temos que as restrições do problema são as seguintes:\n",
        "\n",
        "$$ \\left\\{\\begin{matrix}\n",
        "0.2 x_A & + & 0.125 x_B & + & 0.06 x_C & = & 10 \\\\\n",
        "-x_A & - & x_B & + & x_C & = &0 \\\\\n",
        "x_A & + & x_B & + & x_C & = & 100\n",
        "\\end{matrix}\\right |$$\n",
        "\n",
        "Ou, de forma matricial, $$ Ax = B $$ onde:\n",
        "\n",
        "$$ A = \n",
        "\\begin{bmatrix} \n",
        "0.2 & 0.125 & 0.06 \\\\\n",
        " -1 & -1 & 1 \\\\\n",
        "  1 & 1 & 1 \n",
        "\\end{bmatrix} $$, \n",
        "$$ x =\n",
        "\\begin{bmatrix} \n",
        "x_A \\\\\n",
        "x_B \\\\\n",
        "x_C \n",
        "\\end{bmatrix} $$ \n",
        "e \n",
        "$$ B =\n",
        "\\begin{bmatrix} \n",
        "10 \\\\\n",
        "0 \\\\\n",
        "100 \n",
        "\\end{bmatrix} $$\n",
        "\n",
        "Cuja solução será dada por: $$ x = A^{-1} B $$\n"
      ],
      "metadata": {
        "id": "shMIPdU5es9r"
      }
    },
    {
      "cell_type": "code",
      "source": [
        "matrix = np.array([[0.2, 0.125, 0.06], [-1,-1,1], [1,1,1]])\n",
        "\n",
        "matrix_b = np.array([[10],[0],[100]])\n",
        "\n",
        "matrix_inv = np.linalg.inv(matrix)\n",
        "x = np.linalg.solve(matrix,matrix_b)\n",
        "\n",
        "print(x)\n",
        "\n",
        "print('O Gestor deve alocar nos fundos A, B e C respectivamente',int(x[0,0]),int(x[1,0]), \"e\", int(x[2,0]))"
      ],
      "metadata": {
        "id": "e5oRANxyWmHn",
        "colab": {
          "base_uri": "https://localhost:8080/"
        },
        "outputId": "a70a59e0-f635-4a03-cab4-2ec52eece368"
      },
      "execution_count": null,
      "outputs": [
        {
          "output_type": "stream",
          "name": "stdout",
          "text": [
            "[[10.]\n",
            " [40.]\n",
            " [50.]]\n",
            "O Gestor deve alocar nos fundos A, B e C respectivamente 10 39 e 50\n"
          ]
        }
      ]
    },
    {
      "cell_type": "markdown",
      "source": [
        "## **Exercício 6.** (15 pontos) Problema do consumidor."
      ],
      "metadata": {
        "id": "Vg1d43dVyz2c"
      }
    },
    {
      "cell_type": "markdown",
      "source": [
        "Considere uma função de utilidade em relação a abacates (A) e barras de chocolate (B).\n",
        "\n",
        "$$ U(A,B)=−(A−20)^2 −2(B−1)^2$$\n",
        "\n",
        "Para calcular numericamente o máximo (que você provavelmente pode ver através da inspeção), deve-se resolver diretamente o problema de maximização restrita."
      ],
      "metadata": {
        "id": "Wumwtn9bXx3Q"
      }
    },
    {
      "cell_type": "markdown",
      "source": [
        "1. Encontre a cesta ótima quando $W = 10,\\text{ }p_A = 1\\text{, and }p_B = 2$.\n",
        "\n",
        "2. Qual seria a cesta ótima se a renda passasse a ser de $W = 50$?\n",
        "\n",
        "3. Qual seria a cesta ótima se a renda passasse a ser de $W = 150$?"
      ],
      "metadata": {
        "id": "dAGserhnBqIA"
      }
    },
    {
      "cell_type": "code",
      "source": [],
      "metadata": {
        "id": "BZzjQuok1CVf"
      },
      "execution_count": null,
      "outputs": []
    },
    {
      "cell_type": "markdown",
      "source": [
        "## **Exercício 7.** (10 pontos) Problema livre de seu interesse."
      ],
      "metadata": {
        "id": "odugGf2_3Ppz"
      }
    },
    {
      "cell_type": "markdown",
      "source": [
        "Enuncie um problema de seu interesse e escreva um código que permita encontrar a solução. "
      ],
      "metadata": {
        "id": "WFjBYqc73W1g"
      }
    },
    {
      "cell_type": "markdown",
      "source": [
        "Calculando a distância entre dois pontos"
      ],
      "metadata": {
        "id": "jUkyIB5DbRAA"
      }
    },
    {
      "cell_type": "code",
      "source": [
        "x1 = int(input(\"Valor do x1:\"))\n",
        "x2 = int(input(\"Valor do x2:\"))\n",
        "y1 = int(input(\"Valor do y1:\"))\n",
        "y2 = int(input(\"Valor do y2:\"))\n",
        "\n",
        "dist = (((x1-x2)**2+(y1-y2)**2)**0.5)\n",
        "\n",
        "print(dist)"
      ],
      "metadata": {
        "id": "9l-_lFiLTy83",
        "colab": {
          "base_uri": "https://localhost:8080/"
        },
        "outputId": "7519bc5d-5496-4835-fbf0-a7f7da5b4295"
      },
      "execution_count": null,
      "outputs": [
        {
          "output_type": "stream",
          "name": "stdout",
          "text": [
            "Valor do x1:3\n",
            "Valor do x2:1\n",
            "Valor do y1:4\n",
            "Valor do y2:5\n",
            "2.23606797749979\n"
          ]
        }
      ]
    },
    {
      "cell_type": "code",
      "source": [],
      "metadata": {
        "id": "Ad5Oxx0V9uNj"
      },
      "execution_count": null,
      "outputs": []
    }
  ]
}
